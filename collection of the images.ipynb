{
 "cells": [
  {
   "cell_type": "code",
   "execution_count": 2,
   "metadata": {},
   "outputs": [
    {
     "name": "stdout",
     "output_type": "stream",
     "text": [
      "\u001b[33mWARNING: Skipping /Users/mayank/Desktop/TF/TFODCourse/tfod/lib/python3.11/site-packages/pip-23.2.1.dist-info due to invalid metadata entry 'name'\u001b[0m\u001b[33m\n",
      "\u001b[0mRequirement already satisfied: opencv-python in ./tfod/lib/python3.11/site-packages (4.8.1.78)\n",
      "Requirement already satisfied: numpy>=1.21.2 in ./tfod/lib/python3.11/site-packages (from opencv-python) (1.26.2)\n",
      "\u001b[33mWARNING: Skipping /Users/mayank/Desktop/TF/TFODCourse/tfod/lib/python3.11/site-packages/pip-23.2.1.dist-info due to invalid metadata entry 'name'\u001b[0m\u001b[33m\n",
      "\u001b[0m\u001b[33mWARNING: Skipping /Users/mayank/Desktop/TF/TFODCourse/tfod/lib/python3.11/site-packages/pip-23.2.1.dist-info due to invalid metadata entry 'name'\u001b[0m\u001b[33m\n",
      "\u001b[0m\u001b[33mWARNING: Skipping /Users/mayank/Desktop/TF/TFODCourse/tfod/lib/python3.11/site-packages/pip-23.2.1.dist-info due to invalid metadata entry 'name'\u001b[0m\u001b[33m\n",
      "\u001b[0m"
     ]
    }
   ],
   "source": [
    "!pip install opencv-python"
   ]
  },
  {
   "cell_type": "code",
   "execution_count": 3,
   "metadata": {},
   "outputs": [],
   "source": [
    "# Import opencv\n",
    "import cv2 \n",
    "\n",
    "# Import uuid\n",
    "import uuid\n",
    "\n",
    "# Import Operating System\n",
    "import os\n",
    "\n",
    "# Import time\n",
    "import time"
   ]
  },
  {
   "cell_type": "code",
   "execution_count": 4,
   "metadata": {},
   "outputs": [],
   "source": [
    "labels = ['thumbsup', 'thumbsdown', 'thankyou', 'livelong']\n",
    "labels = ['thumbsup']\n",
    "number_imgs = 5"
   ]
  },
  {
   "cell_type": "code",
   "execution_count": 5,
   "metadata": {},
   "outputs": [],
   "source": [
    "IMAGES_PATH = os.path.join('Tensorflow', 'workspace', 'images', 'collectedimages')"
   ]
  },
  {
   "cell_type": "code",
   "execution_count": 6,
   "metadata": {},
   "outputs": [],
   "source": [
    "if not os.path.exists(IMAGES_PATH):\n",
    "    if os.name == 'posix':\n",
    "        !mkdir -p {IMAGES_PATH}\n",
    "    if os.name == 'nt':\n",
    "         !mkdir {IMAGES_PATH}\n",
    "for label in labels:\n",
    "    path = os.path.join(IMAGES_PATH, label)\n",
    "    if not os.path.exists(path):\n",
    "        !mkdir {path}"
   ]
  },
  {
   "cell_type": "code",
   "execution_count": 8,
   "metadata": {
    "scrolled": true
   },
   "outputs": [
    {
     "name": "stdout",
     "output_type": "stream",
     "text": [
      "Collecting images for thumbsup\n",
      "Collecting image 0\n",
      "Collecting image 1\n",
      "Collecting image 2\n",
      "Collecting image 3\n",
      "Collecting image 4\n",
      "Collecting images for thumbsdown\n",
      "Collecting image 0\n",
      "Collecting image 1\n",
      "Collecting image 2\n",
      "Collecting image 3\n",
      "Collecting image 4\n",
      "Collecting images for thankyou\n",
      "Collecting image 0\n",
      "Collecting image 1\n",
      "Collecting image 2\n",
      "Collecting image 3\n",
      "Collecting image 4\n",
      "Collecting images for livelong\n",
      "Collecting image 0\n",
      "Collecting image 1\n",
      "Collecting image 2\n",
      "Collecting image 3\n",
      "Collecting image 4\n"
     ]
    }
   ],
   "source": [
    "for label in labels:\n",
    "    cap = cv2.VideoCapture(0) #cappturing the imge\n",
    "    print('Collecting images for {}'.format(label))\n",
    "    time.sleep(5)\n",
    "    for imgnum in range(number_imgs):\n",
    "        print('Collecting image {}'.format(imgnum))\n",
    "        ret, frame = cap.read()\n",
    "        imgname = os.path.join(IMAGES_PATH,label,label+'.'+'{}.jpg'.format(str(uuid.uuid1())))\n",
    "        cv2.imwrite(imgname, frame)\n",
    "        cv2.imshow('frame', frame)\n",
    "        time.sleep(2)\n",
    "\n",
    "        if cv2.waitKey(1) & 0xFF == ord('q'):\n",
    "            break\n",
    "cap.release()\n",
    "cv2.destroyAllWindows()"
   ]
  },
  {
   "cell_type": "code",
   "execution_count": 10,
   "metadata": {
    "scrolled": true
   },
   "outputs": [
    {
     "name": "stdout",
     "output_type": "stream",
     "text": [
      "\u001b[33mWARNING: Skipping /Users/mayank/Desktop/TF/TFODCourse/tfod/lib/python3.11/site-packages/pip-23.2.1.dist-info due to invalid metadata entry 'name'\u001b[0m\u001b[33m\n",
      "\u001b[0mCollecting pyqt5\n",
      "  Using cached PyQt5-5.15.10-cp37-abi3-macosx_10_13_x86_64.whl.metadata (2.1 kB)\n",
      "Collecting lxml\n",
      "  Downloading lxml-4.9.4.tar.gz (3.6 MB)\n",
      "\u001b[2K     \u001b[90m━━━━━━━━━━━━━━━━━━━━━━━━━━━━━━━━━━━━━━━━\u001b[0m \u001b[32m3.6/3.6 MB\u001b[0m \u001b[31m16.1 MB/s\u001b[0m eta \u001b[36m0:00:00\u001b[0m00:01\u001b[0m00:01\u001b[0m\n",
      "\u001b[?25h  Installing build dependencies ... \u001b[?25ldone\n",
      "\u001b[?25h  Getting requirements to build wheel ... \u001b[?25ldone\n",
      "\u001b[?25h  Preparing metadata (pyproject.toml) ... \u001b[?25ldone\n",
      "\u001b[?25hCollecting PyQt5-sip<13,>=12.13 (from pyqt5)\n",
      "  Downloading PyQt5_sip-12.13.0-cp311-cp311-macosx_10_9_universal2.whl.metadata (504 bytes)\n",
      "Collecting PyQt5-Qt5>=5.15.2 (from pyqt5)\n",
      "  Using cached PyQt5_Qt5-5.15.11-py3-none-macosx_10_13_x86_64.whl.metadata (536 bytes)\n",
      "Using cached PyQt5-5.15.10-cp37-abi3-macosx_10_13_x86_64.whl (7.0 MB)\n",
      "Using cached PyQt5_Qt5-5.15.11-py3-none-macosx_10_13_x86_64.whl (40.8 MB)\n",
      "Downloading PyQt5_sip-12.13.0-cp311-cp311-macosx_10_9_universal2.whl (144 kB)\n",
      "\u001b[2K   \u001b[90m━━━━━━━━━━━━━━━━━━━━━━━━━━━━━━━━━━━━━━━━\u001b[0m \u001b[32m144.5/144.5 kB\u001b[0m \u001b[31m6.8 MB/s\u001b[0m eta \u001b[36m0:00:00\u001b[0m\n",
      "\u001b[?25hBuilding wheels for collected packages: lxml\n",
      "  Building wheel for lxml (pyproject.toml) ... \u001b[?25ldone\n",
      "\u001b[?25h  Created wheel for lxml: filename=lxml-4.9.4-cp311-cp311-macosx_10_9_x86_64.whl size=1630446 sha256=74cc5472122f0798a82683651358f4f691426dda0fac96f06df13a4e3855ab4e\n",
      "  Stored in directory: /Users/mayank/Library/Caches/pip/wheels/aa/e5/d7/6b952782938de0102d0cb85d6cd25a1fe1fd8c13e867ed14c0\n",
      "Successfully built lxml\n",
      "\u001b[33mWARNING: Skipping /Users/mayank/Desktop/TF/TFODCourse/tfod/lib/python3.11/site-packages/pip-23.2.1.dist-info due to invalid metadata entry 'name'\u001b[0m\u001b[33m\n",
      "\u001b[0mInstalling collected packages: PyQt5-Qt5, PyQt5-sip, lxml, pyqt5\n",
      "\u001b[33mWARNING: Skipping /Users/mayank/Desktop/TF/TFODCourse/tfod/lib/python3.11/site-packages/pip-23.2.1.dist-info due to invalid metadata entry 'name'\u001b[0m\u001b[33m\n",
      "\u001b[0m\u001b[33mWARNING: Skipping /Users/mayank/Desktop/TF/TFODCourse/tfod/lib/python3.11/site-packages/pip-23.2.1.dist-info due to invalid metadata entry 'name'\u001b[0m\u001b[33m\n",
      "\u001b[0mSuccessfully installed PyQt5-Qt5-5.15.11 PyQt5-sip-12.13.0 lxml-4.9.4 pyqt5-5.15.10\n",
      "\u001b[33mWARNING: Skipping /Users/mayank/Desktop/TF/TFODCourse/tfod/lib/python3.11/site-packages/pip-23.2.1.dist-info due to invalid metadata entry 'name'\u001b[0m\u001b[33m\n",
      "\u001b[0m\u001b[33mWARNING: Skipping /Users/mayank/Desktop/TF/TFODCourse/tfod/lib/python3.11/site-packages/pip-23.2.1.dist-info due to invalid metadata entry 'name'\u001b[0m\u001b[33m\n",
      "\u001b[0m"
     ]
    }
   ],
   "source": [
    "!pip install --upgrade pyqt5 lxml"
   ]
  },
  {
   "cell_type": "code",
   "execution_count": 11,
   "metadata": {},
   "outputs": [],
   "source": [
    "LABELIMG_PATH = os.path.join('Tensorflow', 'labelimg')"
   ]
  },
  {
   "cell_type": "code",
   "execution_count": 12,
   "metadata": {},
   "outputs": [
    {
     "name": "stdout",
     "output_type": "stream",
     "text": [
      "Cloning into 'Tensorflow/labelimg'...\n",
      "remote: Enumerating objects: 2097, done.\u001b[K\n",
      "remote: Counting objects: 100% (7/7), done.\u001b[K\n",
      "remote: Compressing objects: 100% (7/7), done.\u001b[K\n",
      "remote: Total 2097 (delta 0), reused 4 (delta 0), pack-reused 2090\u001b[K\n",
      "Receiving objects: 100% (2097/2097), 237.14 MiB | 9.02 MiB/s, done.\n",
      "Resolving deltas: 100% (1245/1245), done.\n"
     ]
    }
   ],
   "source": [
    "if not os.path.exists(LABELIMG_PATH):\n",
    "    !mkdir {LABELIMG_PATH}\n",
    "    !git clone https://github.com/tzutalin/labelImg {LABELIMG_PATH}"
   ]
  },
  {
   "cell_type": "code",
   "execution_count": 14,
   "metadata": {},
   "outputs": [
    {
     "data": {
      "text/plain": [
       "'Tensorflow/labelimg'"
      ]
     },
     "execution_count": 14,
     "metadata": {},
     "output_type": "execute_result"
    }
   ],
   "source": [
    "LABELIMG_PATH"
   ]
  },
  {
   "cell_type": "code",
   "execution_count": 15,
   "metadata": {},
   "outputs": [
    {
     "name": "stdout",
     "output_type": "stream",
     "text": [
      "pyrcc5 -o libs/resources.py resources.qrc\r\n"
     ]
    }
   ],
   "source": [
    "if os.name == 'posix':\n",
    "    !cd {LABELIMG_PATH} && make qt5py3\n",
    "if os.name =='nt':\n",
    "    !cd {LABELIMG_PATH} && pyrcc5 -o libs/resources.py resources.qrc"
   ]
  },
  {
   "cell_type": "code",
   "execution_count": 16,
   "metadata": {},
   "outputs": [
    {
     "name": "stdout",
     "output_type": "stream",
     "text": [
      "Image:/Users/mayank/Desktop/TF/TFODCourse/Tensorflow/workspace/images/collectedimages/thankyou/thankyou.d3bddaf6-a039-11ee-9e48-acbc32c6156f.jpg -> Annotation:/Users/mayank/Desktop/TF/TFODCourse/Tensorflow/workspace/images/collectedimages/thankyou/thankyou.d3bddaf6-a039-11ee-9e48-acbc32c6156f.xml\n",
      "Image:/Users/mayank/Desktop/TF/TFODCourse/Tensorflow/workspace/images/collectedimages/thankyou/thankyou.d4f681c0-a039-11ee-9e48-acbc32c6156f.jpg -> Annotation:/Users/mayank/Desktop/TF/TFODCourse/Tensorflow/workspace/images/collectedimages/thankyou/thankyou.d4f681c0-a039-11ee-9e48-acbc32c6156f.xml\n",
      "Image:/Users/mayank/Desktop/TF/TFODCourse/Tensorflow/workspace/images/collectedimages/thankyou/thankyou.d8a26622-a039-11ee-9e48-acbc32c6156f.jpg -> Annotation:/Users/mayank/Desktop/TF/TFODCourse/Tensorflow/workspace/images/collectedimages/thankyou/thankyou.d8a26622-a039-11ee-9e48-acbc32c6156f.xml\n",
      "Image:/Users/mayank/Desktop/TF/TFODCourse/Tensorflow/workspace/images/collectedimages/thankyou/thankyou.d62f8ef6-a039-11ee-9e48-acbc32c6156f.jpg -> Annotation:/Users/mayank/Desktop/TF/TFODCourse/Tensorflow/workspace/images/collectedimages/thankyou/thankyou.d62f8ef6-a039-11ee-9e48-acbc32c6156f.xml\n",
      "Image:/Users/mayank/Desktop/TF/TFODCourse/Tensorflow/workspace/images/collectedimages/thankyou/thankyou.d7683f66-a039-11ee-9e48-acbc32c6156f.jpg -> Annotation:/Users/mayank/Desktop/TF/TFODCourse/Tensorflow/workspace/images/collectedimages/thankyou/thankyou.d7683f66-a039-11ee-9e48-acbc32c6156f.xml\n",
      "Image:/Users/mayank/Desktop/TF/TFODCourse/Tensorflow/workspace/images/collectedimages/livelong/livelong.dce2f198-a039-11ee-9e48-acbc32c6156f.jpg -> Annotation:/Users/mayank/Desktop/TF/TFODCourse/Tensorflow/workspace/images/collectedimages/livelong/livelong.dce2f198-a039-11ee-9e48-acbc32c6156f.xml\n",
      "Image:/Users/mayank/Desktop/TF/TFODCourse/Tensorflow/workspace/images/collectedimages/livelong/livelong.de1bb52c-a039-11ee-9e48-acbc32c6156f.jpg -> Annotation:/Users/mayank/Desktop/TF/TFODCourse/Tensorflow/workspace/images/collectedimages/livelong/livelong.de1bb52c-a039-11ee-9e48-acbc32c6156f.xml\n",
      "Image:/Users/mayank/Desktop/TF/TFODCourse/Tensorflow/workspace/images/collectedimages/livelong/livelong.df53a9d6-a039-11ee-9e48-acbc32c6156f.jpg -> Annotation:/Users/mayank/Desktop/TF/TFODCourse/Tensorflow/workspace/images/collectedimages/livelong/livelong.df53a9d6-a039-11ee-9e48-acbc32c6156f.xml\n",
      "Image:/Users/mayank/Desktop/TF/TFODCourse/Tensorflow/workspace/images/collectedimages/livelong/livelong.e1c5c924-a039-11ee-9e48-acbc32c6156f.jpg -> Annotation:/Users/mayank/Desktop/TF/TFODCourse/Tensorflow/workspace/images/collectedimages/livelong/livelong.e1c5c924-a039-11ee-9e48-acbc32c6156f.xml\n",
      "Image:/Users/mayank/Desktop/TF/TFODCourse/Tensorflow/workspace/images/collectedimages/livelong/livelong.e08d7606-a039-11ee-9e48-acbc32c6156f.jpg -> Annotation:/Users/mayank/Desktop/TF/TFODCourse/Tensorflow/workspace/images/collectedimages/livelong/livelong.e08d7606-a039-11ee-9e48-acbc32c6156f.xml\n",
      "Image:/Users/mayank/Desktop/TF/TFODCourse/Tensorflow/workspace/images/collectedimages/thumbsdown/thumbsdown.ca91215e-a039-11ee-9e48-acbc32c6156f.jpg -> Annotation:/Users/mayank/Desktop/TF/TFODCourse/Tensorflow/workspace/images/collectedimages/thumbsdown/thumbsdown.ca91215e-a039-11ee-9e48-acbc32c6156f.xml\n",
      "Image:/Users/mayank/Desktop/TF/TFODCourse/Tensorflow/workspace/images/collectedimages/thumbsdown/thumbsdown.cbcb0922-a039-11ee-9e48-acbc32c6156f.jpg -> Annotation:/Users/mayank/Desktop/TF/TFODCourse/Tensorflow/workspace/images/collectedimages/thumbsdown/thumbsdown.cbcb0922-a039-11ee-9e48-acbc32c6156f.xml\n",
      "Image:/Users/mayank/Desktop/TF/TFODCourse/Tensorflow/workspace/images/collectedimages/thumbsdown/thumbsdown.cd0685d2-a039-11ee-9e48-acbc32c6156f.jpg -> Annotation:/Users/mayank/Desktop/TF/TFODCourse/Tensorflow/workspace/images/collectedimages/thumbsdown/thumbsdown.cd0685d2-a039-11ee-9e48-acbc32c6156f.xml\n",
      "Image:/Users/mayank/Desktop/TF/TFODCourse/Tensorflow/workspace/images/collectedimages/thumbsdown/thumbsdown.ce435c86-a039-11ee-9e48-acbc32c6156f.jpg -> Annotation:/Users/mayank/Desktop/TF/TFODCourse/Tensorflow/workspace/images/collectedimages/thumbsdown/thumbsdown.ce435c86-a039-11ee-9e48-acbc32c6156f.xml\n",
      "Image:/Users/mayank/Desktop/TF/TFODCourse/Tensorflow/workspace/images/collectedimages/thumbsdown/thumbsdown.cf7b9ca8-a039-11ee-9e48-acbc32c6156f.jpg -> Annotation:/Users/mayank/Desktop/TF/TFODCourse/Tensorflow/workspace/images/collectedimages/thumbsdown/thumbsdown.cf7b9ca8-a039-11ee-9e48-acbc32c6156f.xml\n",
      "Image:/Users/mayank/Desktop/TF/TFODCourse/Tensorflow/workspace/images/collectedimages/thumbsup/thumbsup.55baec7e-a03a-11ee-9e48-acbc32c6156f.jpg -> Annotation:/Users/mayank/Desktop/TF/TFODCourse/Tensorflow/workspace/images/collectedimages/thumbsup/thumbsup.55baec7e-a03a-11ee-9e48-acbc32c6156f.xml\n",
      "Image:/Users/mayank/Desktop/TF/TFODCourse/Tensorflow/workspace/images/collectedimages/thumbsup/thumbsup.56f3ba62-a03a-11ee-9e48-acbc32c6156f.jpg -> Annotation:/Users/mayank/Desktop/TF/TFODCourse/Tensorflow/workspace/images/collectedimages/thumbsup/thumbsup.56f3ba62-a03a-11ee-9e48-acbc32c6156f.xml\n",
      "Image:/Users/mayank/Desktop/TF/TFODCourse/Tensorflow/workspace/images/collectedimages/thumbsup/thumbsup.582ddb42-a03a-11ee-9e48-acbc32c6156f.jpg -> Annotation:/Users/mayank/Desktop/TF/TFODCourse/Tensorflow/workspace/images/collectedimages/thumbsup/thumbsup.582ddb42-a03a-11ee-9e48-acbc32c6156f.xml\n",
      "Image:/Users/mayank/Desktop/TF/TFODCourse/Tensorflow/workspace/images/collectedimages/thumbsup/thumbsup.596b00b6-a03a-11ee-9e48-acbc32c6156f.jpg -> Annotation:/Users/mayank/Desktop/TF/TFODCourse/Tensorflow/workspace/images/collectedimages/thumbsup/thumbsup.596b00b6-a03a-11ee-9e48-acbc32c6156f.xml\n",
      "Image:/Users/mayank/Desktop/TF/TFODCourse/Tensorflow/workspace/images/collectedimages/thumbsup/thumbsup.548057b8-a03a-11ee-9e48-acbc32c6156f.jpg -> Annotation:/Users/mayank/Desktop/TF/TFODCourse/Tensorflow/workspace/images/collectedimages/thumbsup/thumbsup.548057b8-a03a-11ee-9e48-acbc32c6156f.xml\n"
     ]
    }
   ],
   "source": [
    "!cd {LABELIMG_PATH} && python labelImg.py"
   ]
  }
 ],
 "metadata": {
  "kernelspec": {
   "display_name": "tfod",
   "language": "python",
   "name": "tfod"
  },
  "language_info": {
   "codemirror_mode": {
    "name": "ipython",
    "version": 3
   },
   "file_extension": ".py",
   "mimetype": "text/x-python",
   "name": "python",
   "nbconvert_exporter": "python",
   "pygments_lexer": "ipython3",
   "version": "3.11.5"
  }
 },
 "nbformat": 4,
 "nbformat_minor": 2
}
